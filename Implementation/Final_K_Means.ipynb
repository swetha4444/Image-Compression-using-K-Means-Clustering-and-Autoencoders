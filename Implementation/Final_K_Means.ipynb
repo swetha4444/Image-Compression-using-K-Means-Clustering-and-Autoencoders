{
  "nbformat": 4,
  "nbformat_minor": 0,
  "metadata": {
    "colab": {
      "name": "Final K-Means.ipynb",
      "provenance": []
    },
    "kernelspec": {
      "name": "python3",
      "display_name": "Python 3"
    },
    "language_info": {
      "name": "python"
    }
  },
  "cells": [
    {
      "cell_type": "markdown",
      "metadata": {
        "id": "VuYqb6NCTuJz"
      },
      "source": [
        "## Importing dataset and preprocessing the data"
      ]
    },
    {
      "cell_type": "code",
      "metadata": {
        "id": "n1L091UR97oG",
        "colab": {
          "base_uri": "https://localhost:8080/"
        },
        "outputId": "310509d0-124c-4a40-f15c-76eb604ef3cf"
      },
      "source": [
        "from keras.datasets import mnist\n",
        "import numpy as np\n",
        "\n",
        "(x_train, _), (x_test, _) = mnist.load_data()\n",
        "# Reshape\n",
        "x_train = np.reshape(x_train, (len(x_train), 28, 28, 1))\n",
        "x_test = np.reshape(x_test, (len(x_test), 28, 28, 1))\n",
        "\n"
      ],
      "execution_count": 2,
      "outputs": [
        {
          "output_type": "stream",
          "text": [
            "Downloading data from https://storage.googleapis.com/tensorflow/tf-keras-datasets/mnist.npz\n",
            "11493376/11490434 [==============================] - 0s 0us/step\n"
          ],
          "name": "stdout"
        }
      ]
    },
    {
      "cell_type": "markdown",
      "metadata": {
        "id": "l1k6R19qT2iI"
      },
      "source": [
        "## Visualising input image"
      ]
    },
    {
      "cell_type": "code",
      "metadata": {
        "colab": {
          "base_uri": "https://localhost:8080/",
          "height": 283
        },
        "id": "al-7A2Fn-Z11",
        "outputId": "2d5c298b-a968-4008-901a-c068a1b5b832"
      },
      "source": [
        "from matplotlib import pyplot as plt\n",
        "import numpy as np\n",
        "\n",
        "first_image = x_train[15]\n",
        "first_image = np.asarray(first_image)\n",
        "print(first_image.shape)\n",
        "pixels = first_image.reshape((28, 28))\n",
        "plt.imshow(pixels)\n",
        "plt.show()"
      ],
      "execution_count": 3,
      "outputs": [
        {
          "output_type": "stream",
          "text": [
            "(28, 28, 1)\n"
          ],
          "name": "stdout"
        },
        {
          "output_type": "display_data",
          "data": {
            "image/png": "[encoded data removed]",
            "text/plain": [
              "<Figure size 432x288 with 1 Axes>"
            ]
          },
          "metadata": {
            "tags": [],
            "needs_background": "light"
          }
        }
      ]
    },
    {
      "cell_type": "code",
      "metadata": {
        "colab": {
          "base_uri": "https://localhost:8080/"
        },
        "id": "bOl0Q3Qt-oIv",
        "outputId": "6bcd0042-1b2b-40a7-c8c2-14ac1586c21c"
      },
      "source": [
        "# image_array size - w*h , d\n",
        "img = first_image\n",
        "print(first_image.shape)\n",
        "w, h, d = first_image.shape\n",
        "image_array = img.reshape(w*h,d) #Flatten\n",
        "print('ReShaped'.center(20,'='))\n",
        "print(image_array.shape)"
      ],
      "execution_count": 4,
      "outputs": [
        {
          "output_type": "stream",
          "text": [
            "(28, 28, 1)\n",
            "======ReShaped======\n",
            "(784, 1)\n"
          ],
          "name": "stdout"
        }
      ]
    },
    {
      "cell_type": "markdown",
      "metadata": {
        "id": "Bfsp3-aMX_2K"
      },
      "source": [
        "## Analysing the relationship between the number of clusters and the inertia to find the optimum number of clusters"
      ]
    },
    {
      "cell_type": "code",
      "metadata": {
        "id": "uMuZYAKGNo86"
      },
      "source": [
        "# for clustering image pixels\n",
        "from sklearn.cluster import KMeans \n",
        "\n",
        "x_cluster = []\n",
        "y_inertia = []\n",
        "\n",
        "def calculate_metrics(model):\n",
        " x_cluster.append(model.n_clusters)\n",
        " y_inertia.append(model.inertia_)\n",
        "\n",
        "from sklearn import metrics\n",
        "cluster_number = [2,3,4,5]\n",
        "kmeans_number = []\n",
        "for i in cluster_number:\n",
        "  #total_clusters = len(np.unique(image_array))\n",
        "  # Initialize the K-Means model\n",
        "  kmeans = KMeans(n_clusters = i,random_state=42,verbose=2,n_jobs=-1).fit(image_array)\n",
        "  kmeans_number.append(kmeans)\n",
        "  # Calculating the metrics\n",
        "  calculate_metrics(kmeans)"
      ],
      "execution_count": 6,
      "outputs": []
    },
    {
      "cell_type": "code",
      "metadata": {
        "colab": {
          "base_uri": "https://localhost:8080/",
          "height": 279
        },
        "id": "WyFqpY13TaSY",
        "outputId": "4df5b6a0-b404-494b-822e-e72565551198"
      },
      "source": [
        "# plotting the points \n",
        "plt.plot(x_cluster, y_inertia) \n",
        "# naming the x axis\n",
        "plt.xlabel('Number of Clusters')\n",
        "# naming the y axis\n",
        "plt.ylabel('Inertia')\n",
        "plt.show()"
      ],
      "execution_count": 7,
      "outputs": [
        {
          "output_type": "display_data",
          "data": {
            "image/png": "[encoded data removed]",
            "text/plain": [
              "<Figure size 432x288 with 1 Axes>"
            ]
          },
          "metadata": {
            "tags": [],
            "needs_background": "light"
          }
        }
      ]
    },
    {
      "cell_type": "markdown",
      "metadata": {
        "id": "g5qzkDEaW1U8"
      },
      "source": [
        "## Clustering the pixel points"
      ]
    },
    {
      "cell_type": "code",
      "metadata": {
        "id": "JORIL31UAHBy"
      },
      "source": [
        "kmeans64 = KMeans(n_clusters = 5,random_state=42,verbose=2,n_jobs=-1).fit(image_array)"
      ],
      "execution_count": 8,
      "outputs": []
    },
    {
      "cell_type": "markdown",
      "metadata": {
        "id": "23Re7IJ4W5WM"
      },
      "source": [
        "## Constructing the Compressed image"
      ]
    },
    {
      "cell_type": "code",
      "metadata": {
        "id": "GoElwZSSEEPI"
      },
      "source": [
        "def recreate_image(kmeans):\n",
        "  compressed_image_array = kmeans.cluster_centers_[kmeans.labels_] #[0,3,2,1,.........]\n",
        "  #Reshape the image to original dimension\n",
        "  compressed_image = compressed_image_array.reshape(w,h)\n",
        "  #Save and display output image\n",
        "  return compressed_image"
      ],
      "execution_count": 9,
      "outputs": []
    },
    {
      "cell_type": "markdown",
      "metadata": {
        "id": "yqZWhMTWXrPE"
      },
      "source": [
        "## Compare the original and the reconstructed image"
      ]
    },
    {
      "cell_type": "code",
      "metadata": {
        "id": "IpYBvXIjEOJR"
      },
      "source": [
        "def nLabels(kmeans):  \n",
        "  return kmeans.n_clusters"
      ],
      "execution_count": 10,
      "outputs": []
    },
    {
      "cell_type": "code",
      "metadata": {
        "colab": {
          "base_uri": "https://localhost:8080/",
          "height": 375
        },
        "id": "3lyYkMakEGLK",
        "outputId": "791c7e10-24f0-41b6-9a5c-51c5aafb38b8"
      },
      "source": [
        "def plot_img(kmeans):\n",
        "  str_n = \"No. of clusters: \"+str(nLabels(kmeans))\n",
        "  plt.figure(figsize=(20,10))\n",
        "  plt.title(str_n)\n",
        "  plt.subplot(132)\n",
        "  plt.axis('off')\n",
        "  plt.title('Original Image')\n",
        "  plt.imshow(pixels)\n",
        "  plt.subplot(131)\n",
        "  plt.axis('off')\n",
        "  plt.title('Compressed image')\n",
        "  op_img = recreate_image(kmeans)\n",
        "  plt.imshow(op_img)\n",
        "\n",
        "plot_img(kmeans64)\n",
        "\n"
      ],
      "execution_count": 11,
      "outputs": [
        {
          "output_type": "display_data",
          "data": {
            "image/png": "[encoded data removed]",
            "text/plain": [
              "<Figure size 1440x720 with 2 Axes>"
            ]
          },
          "metadata": {
            "tags": [],
            "needs_background": "light"
          }
        }
      ]
    },
    {
      "cell_type": "markdown",
      "metadata": {
        "id": "4rISet0Gp1eY"
      },
      "source": [
        "## Visualising the compressed image for all the clusters"
      ]
    },
    {
      "cell_type": "code",
      "metadata": {
        "colab": {
          "base_uri": "https://localhost:8080/",
          "height": 1000
        },
        "id": "xR4ASwdXp1Fh",
        "outputId": "d5915fa5-90e5-4517-e537-c054dfc7e267"
      },
      "source": [
        "from sklearn import metrics\n",
        "for i in range(len(cluster_number)):\n",
        "  #total_clusters = len(np.unique(image_array))\n",
        "  # Initialize the K-Means model\n",
        "  plot_img(kmeans_number[i])"
      ],
      "execution_count": 13,
      "outputs": [
        {
          "output_type": "display_data",
          "data": {
            "image/png": "[encoded data removed]",
            "text/plain": [
              "<Figure size 1440x720 with 2 Axes>"
            ]
          },
          "metadata": {
            "tags": [],
            "needs_background": "light"
          }
        },
        {
          "output_type": "display_data",
          "data": {
            "image/png": "[encoded data removed]",
            "text/plain": [
              "<Figure size 1440x720 with 2 Axes>"
            ]
          },
          "metadata": {
            "tags": [],
            "needs_background": "light"
          }
        },
        {
          "output_type": "display_data",
          "data": {
            "image/png": "[encoded data removed]",
            "text/plain": [
              "<Figure size 1440x720 with 2 Axes>"
            ]
          },
          "metadata": {
            "tags": [],
            "needs_background": "light"
          }
        },
        {
          "output_type": "display_data",
          "data": {
            "image/png": "[encoded data removed]",
            "text/plain": [
              "<Figure size 1440x720 with 2 Axes>"
            ]
          },
          "metadata": {
            "tags": [],
            "needs_background": "light"
          }
        }
      ]
    },
    {
      "cell_type": "markdown",
      "metadata": {
        "id": "fYoKP6UOX4Au"
      },
      "source": [
        "## Analysing PSNR value for different cluster values"
      ]
    },
    {
      "cell_type": "code",
      "metadata": {
        "id": "8eFwttnrS3aw"
      },
      "source": [
        "from math import log10, sqrt\n",
        "import cv2\n",
        "import numpy as np\n",
        "\n",
        "def PSNR(original, compressed):\n",
        "    mse = np.mean((original - compressed) ** 2)\n",
        "    if(mse == 0):  # MSE is zero means no noise is present in the signal .\n",
        "                  # Therefore PSNR have no importance.\n",
        "        return 100\n",
        "    max_pixel = 255.0\n",
        "    psnr = 20 * log10(max_pixel / sqrt(mse))\n",
        "    return psnr\n",
        "\n",
        "original = pixels\n",
        "\n",
        "y_psnr = []\n",
        "\n",
        "for i in range(len(cluster_number)):\n",
        "  compressed = recreate_image(kmeans_number[i])\n",
        "  y_psnr.append(PSNR(original, compressed))\n"
      ],
      "execution_count": 17,
      "outputs": []
    },
    {
      "cell_type": "code",
      "metadata": {
        "colab": {
          "base_uri": "https://localhost:8080/",
          "height": 279
        },
        "id": "LVsB-OzPlzEH",
        "outputId": "fe136fed-ba1e-48f7-c551-b66f7d55b9d5"
      },
      "source": [
        "# plotting the points \n",
        "plt.plot(x_cluster, y_psnr) \n",
        "# naming the x axis\n",
        "plt.xlabel('Number of Clusters')\n",
        "# naming the y axis\n",
        "plt.ylabel('PSNR')\n",
        "plt.show()"
      ],
      "execution_count": 18,
      "outputs": [
        {
          "output_type": "display_data",
          "data": {
            "image/png": "[encoded data removed]",
            "text/plain": [
              "<Figure size 432x288 with 1 Axes>"
            ]
          },
          "metadata": {
            "tags": [],
            "needs_background": "light"
          }
        }
      ]
    }
  ]
}