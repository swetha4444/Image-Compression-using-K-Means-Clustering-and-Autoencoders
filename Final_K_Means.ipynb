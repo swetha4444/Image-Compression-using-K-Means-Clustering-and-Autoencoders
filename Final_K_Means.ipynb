{
  "nbformat": 4,
  "nbformat_minor": 0,
  "metadata": {
    "colab": {
      "name": "Final K-Means.ipynb",
      "provenance": []
    },
    "kernelspec": {
      "name": "python3",
      "display_name": "Python 3"
    },
    "language_info": {
      "name": "python"
    }
  },
  "cells": [
    {
      "cell_type": "markdown",
      "metadata": {
        "id": "VuYqb6NCTuJz"
      },
      "source": [
        "## Importing dataset and preprocessing the data"
      ]
    },
    {
      "cell_type": "code",
      "metadata": {
        "id": "n1L091UR97oG",
        "colab": {
          "base_uri": "https://localhost:8080/"
        },
        "outputId": "17ec7384-d1ac-4b54-f16e-f24dc29c74b5"
      },
      "source": [
        "from keras.datasets import mnist\n",
        "import numpy as np\n",
        "\n",
        "(x_train, _), (x_test, _) = mnist.load_data()\n",
        "# Reshape\n",
        "x_train = np.reshape(x_train, (len(x_train), 28, 28, 1))\n",
        "x_test = np.reshape(x_test, (len(x_test), 28, 28, 1))\n",
        "\n"
      ],
      "execution_count": 1,
      "outputs": [
        {
          "output_type": "stream",
          "text": [
            "Downloading data from https://storage.googleapis.com/tensorflow/tf-keras-datasets/mnist.npz\n",
            "11493376/11490434 [==============================] - 0s 0us/step\n"
          ],
          "name": "stdout"
        }
      ]
    },
    {
      "cell_type": "markdown",
      "metadata": {
        "id": "l1k6R19qT2iI"
      },
      "source": [
        "## Visualising input image"
      ]
    },
    {
      "cell_type": "code",
      "metadata": {
        "colab": {
          "base_uri": "https://localhost:8080/",
          "height": 283
        },
        "id": "al-7A2Fn-Z11",
        "outputId": "edd9f405-8da5-44a5-9d7d-46b4b248f71e"
      },
      "source": [
        "from matplotlib import pyplot as plt\n",
        "import numpy as np\n",
        "\n",
        "first_image = x_train[15]\n",
        "first_image = np.asarray(first_image)\n",
        "print(first_image.shape)\n",
        "pixels = first_image.reshape((28, 28))\n",
        "plt.imshow(pixels)\n",
        "plt.show()"
      ],
      "execution_count": 42,
      "outputs": [
        {
          "output_type": "stream",
          "text": [
            "(28, 28, 1)\n"
          ],
          "name": "stdout"
        },
        {
          "output_type": "display_data",
          "data": {
            "image/png": "[encoded data removed]",
            "text/plain": [
              "<Figure size 432x288 with 1 Axes>"
            ]
          },
          "metadata": {
            "tags": [],
            "needs_background": "light"
          }
        }
      ]
    },
    {
      "cell_type": "code",
      "metadata": {
        "colab": {
          "base_uri": "https://localhost:8080/"
        },
        "id": "bOl0Q3Qt-oIv",
        "outputId": "fd825b85-f37c-4f53-fca5-03362e70ab99"
      },
      "source": [
        "# image_array size - w*h , d\n",
        "img = first_image\n",
        "print(first_image.shape)\n",
        "w, h, d = first_image.shape\n",
        "image_array = img.reshape(w*h,d) #Flatten\n",
        "print('ReShaped'.center(20,'='))\n",
        "print(image_array.shape)"
      ],
      "execution_count": 43,
      "outputs": [
        {
          "output_type": "stream",
          "text": [
            "(28, 28, 1)\n",
            "======ReShaped======\n",
            "(784, 1)\n"
          ],
          "name": "stdout"
        }
      ]
    },
    {
      "cell_type": "markdown",
      "metadata": {
        "id": "Bfsp3-aMX_2K"
      },
      "source": [
        "## Analysing the relationship between the number of clusters and the inertia to find the optimum number of clusters"
      ]
    },
    {
      "cell_type": "code",
      "metadata": {
        "id": "uMuZYAKGNo86"
      },
      "source": [
        "# for clustering image pixels\n",
        "from sklearn.cluster import KMeans \n",
        "\n",
        "x_cluster = []\n",
        "y_inertia = []\n",
        "\n",
        "def calculate_metrics(model):\n",
        " x_cluster.append(model.n_clusters)\n",
        " y_inertia.append(model.inertia_)\n",
        "\n",
        "from sklearn import metrics\n",
        "cluster_number = [2,3,4,5]\n",
        "for i in cluster_number:\n",
        "  #total_clusters = len(np.unique(image_array))\n",
        "  # Initialize the K-Means model\n",
        "  kmeans = KMeans(n_clusters = i,random_state=42,verbose=2,n_jobs=-1).fit(image_array)\n",
        "  # Calculating the metrics\n",
        "  calculate_metrics(kmeans)"
      ],
      "execution_count": 44,
      "outputs": []
    },
    {
      "cell_type": "code",
      "metadata": {
        "colab": {
          "base_uri": "https://localhost:8080/",
          "height": 279
        },
        "id": "WyFqpY13TaSY",
        "outputId": "114069f9-9afa-4c4c-ff9b-253b00e1b82f"
      },
      "source": [
        "# plotting the points \n",
        "plt.plot(x_cluster, y_inertia) \n",
        "# naming the x axis\n",
        "plt.xlabel('Number of Clusters')\n",
        "# naming the y axis\n",
        "plt.ylabel('Inertia')\n",
        "plt.show()"
      ],
      "execution_count": 45,
      "outputs": [
        {
          "output_type": "display_data",
          "data": {
            "image/png": "[encoded data removed]",
            "text/plain": [
              "<Figure size 432x288 with 1 Axes>"
            ]
          },
          "metadata": {
            "tags": [],
            "needs_background": "light"
          }
        }
      ]
    },
    {
      "cell_type": "markdown",
      "metadata": {
        "id": "g5qzkDEaW1U8"
      },
      "source": [
        "## Clustering the pixel points"
      ]
    },
    {
      "cell_type": "code",
      "metadata": {
        "id": "JORIL31UAHBy"
      },
      "source": [
        "kmeans64 = KMeans(n_clusters = 5,random_state=42,verbose=2,n_jobs=-1).fit(image_array)"
      ],
      "execution_count": 46,
      "outputs": []
    },
    {
      "cell_type": "markdown",
      "metadata": {
        "id": "23Re7IJ4W5WM"
      },
      "source": [
        "## Constructing the Compressed image"
      ]
    },
    {
      "cell_type": "code",
      "metadata": {
        "id": "GoElwZSSEEPI"
      },
      "source": [
        "def recreate_image(kmeans):\n",
        "  compressed_image_array = kmeans.cluster_centers_[kmeans.labels_] #[0,3,2,1,.........]\n",
        "  #Reshape the image to original dimension\n",
        "  compressed_image = compressed_image_array.reshape(w,h)\n",
        "  #Save and display output image\n",
        "  return compressed_image"
      ],
      "execution_count": 17,
      "outputs": []
    },
    {
      "cell_type": "markdown",
      "metadata": {
        "id": "yqZWhMTWXrPE"
      },
      "source": [
        "## Compare the original and the reconstructed image"
      ]
    },
    {
      "cell_type": "code",
      "metadata": {
        "id": "IpYBvXIjEOJR"
      },
      "source": [
        "def nLabels(kmeans):  \n",
        "  return kmeans.n_clusters"
      ],
      "execution_count": 38,
      "outputs": []
    },
    {
      "cell_type": "code",
      "metadata": {
        "colab": {
          "base_uri": "https://localhost:8080/",
          "height": 375
        },
        "id": "3lyYkMakEGLK",
        "outputId": "8a4fa239-770f-4f95-cfb7-6ad8e6f7f9e7"
      },
      "source": [
        "def plot_img(kmeans):\n",
        "  str_n = \"No. of clusters: \"+str(nLabels(kmeans))\n",
        "  plt.figure(figsize=(20,10))\n",
        "  plt.title(str_n)\n",
        "  plt.subplot(132)\n",
        "  plt.axis('off')\n",
        "  plt.title('Original Image')\n",
        "  plt.imshow(pixels)\n",
        "  plt.subplot(131)\n",
        "  plt.axis('off')\n",
        "  plt.title('Compressed image')\n",
        "  op_img = recreate_image(kmeans)\n",
        "  plt.imshow(op_img)\n",
        "\n",
        "plot_img(kmeans64)\n",
        "\n"
      ],
      "execution_count": 39,
      "outputs": [
        {
          "output_type": "display_data",
          "data": {
            "image/png": "[encoded data removed]",
            "text/plain": [
              "<Figure size 1440x720 with 2 Axes>"
            ]
          },
          "metadata": {
            "tags": [],
            "needs_background": "light"
          }
        }
      ]
    },
    {
      "cell_type": "markdown",
      "metadata": {
        "id": "4rISet0Gp1eY"
      },
      "source": [
        "## Visualising the compressed image for all the clusters"
      ]
    },
    {
      "cell_type": "code",
      "metadata": {
        "colab": {
          "base_uri": "https://localhost:8080/",
          "height": 1000
        },
        "id": "xR4ASwdXp1Fh",
        "outputId": "403b37ff-c964-42f2-966e-31d94b40c4db"
      },
      "source": [
        "from sklearn import metrics\n",
        "cluster_number = [2,3,4,5]\n",
        "for i in cluster_number:\n",
        "  #total_clusters = len(np.unique(image_array))\n",
        "  # Initialize the K-Means model\n",
        "  kmeans = KMeans(n_clusters = i,random_state=42,verbose=2,n_jobs=-1).fit(image_array)\n",
        "  plot_img(kmeans)"
      ],
      "execution_count": 40,
      "outputs": [
        {
          "output_type": "display_data",
          "data": {
            "image/png": "[encoded data removed]",
            "text/plain": [
              "<Figure size 1440x720 with 2 Axes>"
            ]
          },
          "metadata": {
            "tags": [],
            "needs_background": "light"
          }
        },
        {
          "output_type": "display_data",
          "data": {
            "image/png": "[encoded data removed]",
            "text/plain": [
              "<Figure size 1440x720 with 2 Axes>"
            ]
          },
          "metadata": {
            "tags": [],
            "needs_background": "light"
          }
        },
        {
          "output_type": "display_data",
          "data": {
            "image/png": "[encoded data removed]",
            "text/plain": [
              "<Figure size 1440x720 with 2 Axes>"
            ]
          },
          "metadata": {
            "tags": [],
            "needs_background": "light"
          }
        },
        {
          "output_type": "display_data",
          "data": {
            "image/png": "[encoded data removed]",
            "text/plain": [
              "<Figure size 1440x720 with 2 Axes>"
            ]
          },
          "metadata": {
            "tags": [],
            "needs_background": "light"
          }
        }
      ]
    },
    {
      "cell_type": "markdown",
      "metadata": {
        "id": "fYoKP6UOX4Au"
      },
      "source": [
        "## Computing the PSNR value"
      ]
    },
    {
      "cell_type": "code",
      "metadata": {
        "colab": {
          "base_uri": "https://localhost:8080/"
        },
        "id": "8eFwttnrS3aw",
        "outputId": "15394f83-518c-46c4-c9bb-9956b909cd5e"
      },
      "source": [
        "from math import log10, sqrt\n",
        "import cv2\n",
        "import numpy as np\n",
        "\n",
        "def PSNR(original, compressed):\n",
        "    mse = np.mean((original - compressed) ** 2)\n",
        "    if(mse == 0):  # MSE is zero means no noise is present in the signal .\n",
        "                  # Therefore PSNR have no importance.\n",
        "        return 100\n",
        "    max_pixel = 255.0\n",
        "    psnr = 20 * log10(max_pixel / sqrt(mse))\n",
        "    return psnr\n",
        "\n",
        "psnr=0\n",
        "original = pixels\n",
        "compressed = recreate_image(kmeans64)\n",
        "value = PSNR(original, compressed)\n",
        "print(f\"PSNR value is {value} dB\")"
      ],
      "execution_count": 41,
      "outputs": [
        {
          "output_type": "stream",
          "text": [
            "PSNR value is 32.75748204080044 dB\n"
          ],
          "name": "stdout"
        }
      ]
    }
  ]
}